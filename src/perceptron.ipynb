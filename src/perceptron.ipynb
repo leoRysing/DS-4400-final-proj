{
 "cells": [
  {
   "cell_type": "code",
   "execution_count": null,
   "outputs": [],
   "source": [
    "import random\n",
    "import numpy as np\n",
    "import matplotlib as plt\n",
    "import pandas as pd"
   ],
   "metadata": {
    "collapsed": false,
    "pycharm": {
     "is_executing": true
    }
   }
  },
  {
   "cell_type": "code",
   "execution_count": null,
   "metadata": {
    "collapsed": true
   },
   "outputs": [],
   "source": [
    "def rand_w(min_val, max_val, num_ints):\n",
    "    \"\"\"\n",
    "    returns a w vector of random integers\n",
    "    :param min_val: (int) min value vector will have\n",
    "    :param max_val: (int) max value vector will have\n",
    "    :param num_ints: (int) number of integers vector will have\n",
    "    :return: a list of random integers\n",
    "    \"\"\"\n",
    "    w_vector = []\n",
    "    for i in range(0,num_ints):\n",
    "        n = random.randint(min_val, max_val)\n",
    "        w_vector.append(n)\n",
    "    return w_vector"
   ]
  },
  {
   "cell_type": "code",
   "execution_count": null,
   "outputs": [],
   "source": [
    "def predictdot(X, w):\n",
    "    \"\"\"\n",
    "    takes in a 2D array of attribute values and a weight vector to return\n",
    "    a series of predictions per row of the table\n",
    "    :param X: (dataframe) dataframe of attributes & bias term\n",
    "    :param w: (list) weight vector\n",
    "    :return: a series of predictions (1 or 0)\n",
    "    \"\"\"\n",
    "\n",
    "    predictions = X.dot(w)\n",
    "    return (predictions >= 0).astype(int)"
   ],
   "metadata": {
    "collapsed": false
   }
  },
  {
   "cell_type": "code",
   "execution_count": null,
   "outputs": [],
   "source": [
    "def perceptron(data, alpha=0.0001, epochs=1000):\n",
    "    \"\"\"\n",
    "    linear perceptron function that finds the weight vector of a given dataset\n",
    "    :param data: (dataframe) dataframe\n",
    "    :param alpha: (float) the learning rate\n",
    "    :param epochs: (int) number of epochs\n",
    "    :return: a list of integers ie. weight vector\n",
    "    \"\"\"\n",
    "\n",
    "    data = data.copy()\n",
    "    # data = data[['home_team', 'home_score', 'away_team', 'away_score', 'game_state']]\n",
    "\n",
    "    # List of categorical column names\n",
    "    cat_cols = [col for col in data.columns if data[col].dtype == 'object']\n",
    "\n",
    "    # One-hot encoding for categorical columns\n",
    "    for col in cat_cols:\n",
    "        data[col] = data[col].astype('category').cat.codes\n",
    "\n",
    "    # add a bias column to the data\n",
    "    data.insert(15, 'bias', 1)\n",
    "\n",
    "    # adding outcomes column team name\n",
    "    # data['outcome'] = data.apply(lambda row:\n",
    "    #                              1 if row['home_score'] > row['away_score'] else\n",
    "    #                              -1 if row['home_score'] < row['away_score'] else\n",
    "    #                              0, axis=1)\n",
    "\n",
    "    # X is all attributes plus a bias column\n",
    "    X = data.iloc[:, :-1].values\n",
    "\n",
    "    # y is the actual values column\n",
    "    y = data.iloc[:, -1].values\n",
    "\n",
    "    # total number of attributes including bias column\n",
    "    num_attrib = X.shape[1]\n",
    "\n",
    "    # initial w\n",
    "    w = np.random.rand(num_attrib)\n",
    "\n",
    "    # lists to store MPE and model accuracy per epoch (for #6)\n",
    "    mpe_list = []\n",
    "    acc_list = []\n",
    "\n",
    "    for i in range(epochs):\n",
    "\n",
    "        # predict using x array and w array\n",
    "        ypred = predictdot(X, w)\n",
    "\n",
    "        # calculate accuracy for current epoch\n",
    "        curr_accuracy = np.sum(ypred == y) / len(y)\n",
    "        acc_list.append(curr_accuracy)\n",
    "\n",
    "        # calculate MPE for current epoch\n",
    "        curr_mpe = np.mean(np.abs(y - ypred))\n",
    "        mpe_list.append(curr_mpe)\n",
    "\n",
    "        for j in range(num_attrib):\n",
    "            # update the weights if predictions mismatch\n",
    "            # for each attribute in w\n",
    "            w[j] = w[j] + alpha * np.sum((y - ypred) * X[:, j])\n",
    "\n",
    "    print(data.columns)\n",
    "    return acc_list, mpe_list, w"
   ],
   "metadata": {
    "collapsed": false
   }
  },
  {
   "cell_type": "code",
   "execution_count": null,
   "outputs": [],
   "source": [
    "df = pd.read_csv('../data/team_data_v4.csv')\n",
    "df = pd.DataFrame(df)\n",
    "acc_list, mpe_list, w = perceptron(df)\n",
    "print(w)"
   ],
   "metadata": {
    "collapsed": false
   }
  },
  {
   "cell_type": "code",
   "execution_count": null,
   "outputs": [],
   "source": [
    "num_epochs = np.arange(0, 1000, 1)\n",
    "\n",
    "fig, (ax1, ax2) = plt.subplots(1, 2, figsize=(10,4))\n",
    "\n",
    "# # plot MPE\n",
    "ax1.plot(num_epochs, mpe_list)\n",
    "ax1.set_xlabel('Epochs')\n",
    "ax1.set_ylabel('MPE')\n",
    "ax1.set_title('Mean Perceptron Error')\n",
    "\n",
    "# plot accuracy\n",
    "ax2.plot(num_epochs, acc_list)\n",
    "ax2.set_xlabel('Epochs')\n",
    "ax2.set_ylabel('Accuracy')\n",
    "ax2.set_title('Model Accuracy')\n",
    "\n",
    "# display the plot\n",
    "plt.show()"
   ],
   "metadata": {
    "collapsed": false
   }
  }
 ],
 "metadata": {
  "kernelspec": {
   "display_name": "Python 3",
   "language": "python",
   "name": "python3"
  },
  "language_info": {
   "codemirror_mode": {
    "name": "ipython",
    "version": 2
   },
   "file_extension": ".py",
   "mimetype": "text/x-python",
   "name": "python",
   "nbconvert_exporter": "python",
   "pygments_lexer": "ipython2",
   "version": "2.7.6"
  }
 },
 "nbformat": 4,
 "nbformat_minor": 0
}
